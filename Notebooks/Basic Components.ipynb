{
 "cells": [
  {
   "cell_type": "markdown",
   "metadata": {},
   "source": [
    "# Ideal Components\n",
    "\n",
    "There are five ideal components in electrical engineering:\n",
    "1. Voltage sources\n",
    "2. Current sources\n",
    "3. Resistors\n",
    "4. Capacitors\n",
    "5. Inductors\n",
    "\n",
    "Every linear circuit can be described with just these five components alone. The exact behavior of any linear circuit can be accurately predicted."
   ]
  },
  {
   "cell_type": "markdown",
   "metadata": {},
   "source": [
    "The voltage across the terminals and the current through a component is defined in the table below:\n",
    "\n",
    "| Component      | Voltage                         | Current                         |\n",
    "|----------------|---------------------------------|---------------------------------|\n",
    "| Voltage source | Fixed                           | Depends on load                 |\n",
    "| Current source | Depends on load                 | Fixed                           |\n",
    "| Resistor       | $i R$                           | $\\frac{v}{R}$                   |\n",
    "| Capacitor      | $v = \\frac{1}{C}\\int i dt$      | $i = C\\frac{dv}{dt}$            |\n",
    "| Inductor       | $v = L\\frac{di}{dt}$            | $i = \\frac{1}{L}\\int v dt$      |"
   ]
  },
  {
   "cell_type": "markdown",
   "metadata": {},
   "source": [
    "## Ideal Voltage Source\n",
    "\n",
    "The ideal voltage source delivers a fixed voltage. The voltage across the terminals of an ideal voltage source is constant, regardless of any load connected to it. If a resistor, capacitor, or inductor is connected across the terminals of an ideal voltage source, the current through the voltage source can be computed from the table above. If a current source is connected across a voltage source, the current through both sources is the value of the current source."
   ]
  },
  {
   "cell_type": "markdown",
   "metadata": {},
   "source": [
    "## Ideal Current Source\n",
    "\n",
    "The ideal current source delivers a fixed current. The current across the terminals of an ideal current source is constant, regardless of any load connected to it. If a resistor, capacitor, or inductor is connected across the terminals of an ideal current source, the voltage across the voltage source can be computed from the table above. If a voltage source is connected across a current source, the voltage through both sources is the value of the voltage source."
   ]
  }
 ],
 "metadata": {
  "kernelspec": {
   "display_name": "Python 3",
   "language": "python",
   "name": "python3"
  },
  "language_info": {
   "codemirror_mode": {
    "name": "ipython",
    "version": 3
   },
   "file_extension": ".py",
   "mimetype": "text/x-python",
   "name": "python",
   "nbconvert_exporter": "python",
   "pygments_lexer": "ipython3",
   "version": "3.6.8"
  }
 },
 "nbformat": 4,
 "nbformat_minor": 2
}
