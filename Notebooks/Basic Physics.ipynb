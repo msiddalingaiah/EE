{
 "cells": [
  {
   "cell_type": "markdown",
   "metadata": {},
   "source": [
    "# Electric Charge\n",
    "\n",
    "[Electric charge](https://en.wikipedia.org/wiki/Electric_charge) is a physical property of matter. There are two types of charge: positive and negative. Charges exert a force on each other depending on distance.\n",
    "\n",
    "![Charges](images/charges.png)\n",
    "\n",
    "Charge is measured in Coulombs, named after 18th French military engineer and physicist [Charles-Augustin de Coulomb](https://en.wikipedia.org/wiki/Charles-Augustin_de_Coulomb). Electrons have a negative charge and protons have a positive charge of equal and opposite value. The charge on an electron is approximately $1.6 \\times 10^{-19} C$. Charge is quantized, meaning that charge is always found to be integer multiples of the charge on a single electron.\n",
    "\n",
    "Charges exhibit a force on each other given by this equation:\n",
    "\n",
    "$$F = \\frac{k q_1 q_2}{r^2}$$\n",
    "\n",
    "Where k is a constant. $k \\approx 8.99×109 \\frac{N m^2}{C^2}$"
   ]
  },
  {
   "cell_type": "markdown",
   "metadata": {},
   "source": [
    "# Voltage\n",
    "\n",
    "Voltage is the electric potential difference between two points. Voltage is a relative difference, not an absolute value like charge. Voltage is a bit like altitude, which is measured in reference to some level or ground. Height of mountains are typically measured with reference to mean sea level. For this reason, [Mount Everest](https://en.wikipedia.org/wiki/Mount_Everest) is highest peak above mean sea level, while [Mauna Kea](https://en.wikipedia.org/wiki/Mauna_Kea) is the tallest mountain when measured from base to peak.\n",
    "\n",
    "![Waterfall](images/waterfall.png)\n",
    "\n",
    "Voltage is measured in Volts, named after 18th century Italian physicist [Alessandro Volta](https://en.wikipedia.org/wiki/Alessandro_Volta). Conceptually, voltage is the energy per unit charge. It is equal to the energy required to move a charge through an electric field.\n",
    "\n"
   ]
  },
  {
   "cell_type": "markdown",
   "metadata": {},
   "source": [
    "# Electric Current\n",
    "\n",
    "Electric current is the rate of flow of electric charge at a point."
   ]
  },
  {
   "cell_type": "code",
   "execution_count": null,
   "metadata": {},
   "outputs": [],
   "source": []
  }
 ],
 "metadata": {
  "kernelspec": {
   "display_name": "Python 3",
   "language": "python",
   "name": "python3"
  },
  "language_info": {
   "codemirror_mode": {
    "name": "ipython",
    "version": 3
   },
   "file_extension": ".py",
   "mimetype": "text/x-python",
   "name": "python",
   "nbconvert_exporter": "python",
   "pygments_lexer": "ipython3",
   "version": "3.6.8"
  }
 },
 "nbformat": 4,
 "nbformat_minor": 2
}
