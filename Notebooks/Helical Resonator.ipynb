{
 "cells": [
  {
   "cell_type": "markdown",
   "metadata": {},
   "source": [
    "See [Corum Contractor Report](https://apps.dtic.mil/dtic/tr/fulltext/u2/a282289.pdf)\n",
    "\n",
    "Velocity factor is given by:\n",
    "\n",
    "$$V_f = \\frac{1}{\\sqrt{1 + 20\\left(\\frac{D}{s}\\right)^{2.5} \\left(\\frac{D}{\\lambda_o}\\right)^{0.5}}}$$\n",
    "\n",
    "* $\\lambda_o$ free space wavelength\n",
    "* $D$ helix diameter\n",
    "* $s$ turn to turn spacing\n",
    "\n",
    "All in the same units\n",
    "\n",
    "Schelkunoff's transmission line characteristic impedance:\n",
    "\n",
    "$$Z_o = \\frac{60}{V_f} \\left[ ln\\left( \\frac{4 H}{D}\\right) - 1 \\right]$$\n",
    "\n",
    "* $H$ is the physical height of the helix\n"
   ]
  },
  {
   "cell_type": "code",
   "execution_count": 9,
   "metadata": {},
   "outputs": [],
   "source": [
    "import math\n",
    "import numpy as np\n",
    "import matplotlib.pyplot as plt\n",
    "\n",
    "inch = 2.54/100\n",
    "ft = 12*inch\n",
    "cm = 1/100\n",
    "MHz = 1e6\n",
    "speed_of_light = 3e8"
   ]
  },
  {
   "cell_type": "markdown",
   "metadata": {},
   "source": [
    "## Red Resonator"
   ]
  },
  {
   "cell_type": "code",
   "execution_count": 15,
   "metadata": {},
   "outputs": [
    {
     "data": {
      "text/plain": [
       "(74.93355778534603, 0.004632927056591165, 1529000.0)"
      ]
     },
     "execution_count": 15,
     "metadata": {},
     "output_type": "execute_result"
    }
   ],
   "source": [
    "D = 2.38\n",
    "l = 3.75 - (1/16)\n",
    "r = D/2\n",
    "N = 107*l\n",
    "l_w = math.pi*D*N*inch\n",
    "\n",
    "L_total = ((r*N)**2)*1e-6/(9*r + 10*l)\n",
    "fo = 1.529e6 # Measured frequency\n",
    "l_w, L_total, fo"
   ]
  },
  {
   "cell_type": "code",
   "execution_count": 16,
   "metadata": {},
   "outputs": [
    {
     "data": {
      "text/plain": [
       "0.0016590491790251997"
      ]
     },
     "execution_count": 16,
     "metadata": {},
     "output_type": "execute_result"
    }
   ],
   "source": [
    "D = 2.38 * inch\n",
    "s = (1/107.0) * inch\n",
    "lo = speed_of_light/fo\n",
    "H = (3.75 - (1/16))*inch\n",
    "\n",
    "V_f = 1/math.sqrt(1 + 20*((D/s)**2.5)*((D/lo)**0.5))\n",
    "V_f"
   ]
  },
  {
   "cell_type": "code",
   "execution_count": 17,
   "metadata": {},
   "outputs": [
    {
     "data": {
      "text/plain": [
       "29805.358594132213"
      ]
     },
     "execution_count": 17,
     "metadata": {},
     "output_type": "execute_result"
    }
   ],
   "source": [
    "Z_o = (60/V_f)*(math.log(4*H/D) - 1)\n",
    "Z_o"
   ]
  },
  {
   "cell_type": "code",
   "execution_count": 18,
   "metadata": {},
   "outputs": [
    {
     "data": {
      "text/plain": [
       "(6.182713317660167e-05, 6.959698193348055e-14)"
      ]
     },
     "execution_count": 18,
     "metadata": {},
     "output_type": "execute_result"
    }
   ],
   "source": [
    "L_dis = L_total/l_w\n",
    "C_dis = L_dis/(Z_o**2)\n",
    "(L_dis, C_dis)"
   ]
  },
  {
   "cell_type": "markdown",
   "metadata": {},
   "source": [
    "Loss:\n",
    "\n",
    "$$\\alpha l = \\frac{7.8125 \\left(\\frac{H}{D} \\right)^{0.2}}{d_w Z_o \\sqrt{f_{MHz}}}$$\n",
    "\n",
    "* $d_w$ is wire diameter in inches\n",
    "\n",
    "Base impedance:\n",
    "\n",
    "$$R_{base} \\approx \\alpha l Z_o $$\n",
    "\n",
    "$$R_{base} \\approx \\frac{7.8125 \\left(\\frac{H}{D} \\right)^{0.2}}{d_w \\sqrt{f_{MHz}}} $$\n"
   ]
  },
  {
   "cell_type": "code",
   "execution_count": 19,
   "metadata": {},
   "outputs": [
    {
     "data": {
      "text/plain": [
       "'Base impedance: 737.9060646650111'"
      ]
     },
     "execution_count": 19,
     "metadata": {},
     "output_type": "execute_result"
    }
   ],
   "source": [
    "d_w = s / inch\n",
    "a1 = 7.8125 * ((H/D)**0.2)\n",
    "a2 = d_w * Z_o * math.sqrt(fo/1e6)\n",
    "alpha_l = a1/a2\n",
    "\n",
    "R_base = alpha_l * Z_o\n",
    "f'Base impedance: {R_base}'"
   ]
  },
  {
   "cell_type": "code",
   "execution_count": 25,
   "metadata": {},
   "outputs": [
    {
     "data": {
      "text/plain": [
       "40.39180597826231"
      ]
     },
     "execution_count": 25,
     "metadata": {},
     "output_type": "execute_result"
    }
   ],
   "source": [
    "1/alpha_l"
   ]
  },
  {
   "cell_type": "markdown",
   "metadata": {},
   "source": [
    "### Electrical Length\n",
    "\n",
    "Electrical length of the line in radians is\n",
    "\n",
    "$$\\theta = \\frac{2 \\pi H}{V_f \\lambda_o}$$"
   ]
  },
  {
   "cell_type": "code",
   "execution_count": 24,
   "metadata": {},
   "outputs": [
    {
     "data": {
      "text/plain": [
       "103.58460567213221"
      ]
     },
     "execution_count": 24,
     "metadata": {},
     "output_type": "execute_result"
    }
   ],
   "source": [
    "theta = 2*math.pi*H/(V_f * lo)\n",
    "theta"
   ]
  },
  {
   "cell_type": "markdown",
   "metadata": {},
   "source": [
    "### Step Up\n",
    "\n",
    "$$\\left\\lvert \\frac{V_{top}}{V_{base}} \\right\\rvert = \\frac{\\sqrt{[1 + \\lvert \\Gamma_2 \\rvert cos \\phi]^2 + [\\lvert \\Gamma_2 \\rvert sin \\phi]^2}}{\\sqrt{[e^{\\alpha l} cos \\theta + \\lvert \\Gamma_2 \\rvert e^{-\\alpha l} cos(\\phi-\\theta)]^2 + [e^{\\alpha l} sin \\theta + \\lvert \\Gamma_2 \\rvert e^{-\\alpha l} sin(\\phi-\\theta)]^2}}$$"
   ]
  },
  {
   "cell_type": "code",
   "execution_count": 31,
   "metadata": {},
   "outputs": [
    {
     "data": {
      "text/plain": [
       "0.9993875043080072"
      ]
     },
     "execution_count": 31,
     "metadata": {},
     "output_type": "execute_result"
    }
   ],
   "source": [
    "# This needs work\n",
    "gamma_2 = 1\n",
    "theta = phi = math.pi/2\n",
    "a = math.sqrt((1+gamma_2*math.cos(phi))**2 + (gamma_2*math.sin(phi))**2)\n",
    "t1 = (math.cos(theta)*(math.e**alpha_l) + math.cos(phi-theta)*gamma_2*(math.e**(-alpha_l)))**2\n",
    "t2 = (math.sin(theta)*(math.e**alpha_l) + math.sin(phi-theta)*gamma_2*(math.e**(-alpha_l)))**2\n",
    "b = math.sqrt(t1 + t2)\n",
    "step_up = a/b\n",
    "step_up"
   ]
  },
  {
   "cell_type": "code",
   "execution_count": 35,
   "metadata": {},
   "outputs": [
    {
     "data": {
      "text/plain": [
       "1.0250665082884522"
      ]
     },
     "execution_count": 35,
     "metadata": {},
     "output_type": "execute_result"
    }
   ],
   "source": [
    "math.e**alpha_l"
   ]
  },
  {
   "cell_type": "code",
   "execution_count": 38,
   "metadata": {},
   "outputs": [
    {
     "data": {
      "text/plain": [
       "1.0250665082884522"
      ]
     },
     "execution_count": 38,
     "metadata": {},
     "output_type": "execute_result"
    }
   ],
   "source": [
    "math.exp(alpha_l)"
   ]
  },
  {
   "cell_type": "markdown",
   "metadata": {},
   "source": [
    "## Measurements\n",
    "\n",
    "The following measurements were made on 10/4/2020.\n",
    "\n",
    "* Base drive 10V p-p or 5V amplitude\n",
    "* Generator impedance of $50 \\Omega$\n",
    "* Resonator base voltage is 4.45 V\n",
    "\n",
    "LTSpice simulation results compare well with measurements using the following LTRA model:\n",
    "\n",
    "* ```.model myTline LTRA(R=10 L=6.183e-05 C=6.6e-14 len=80.9)```\n",
    "* Add Spice ltline component and set Value to myTline\n",
    "\n",
    "This simulation suggests the following:\n",
    "\n",
    "* $R_{base} = 409 \\Omega$\n",
    "* $V_{base} = 4.45 V$\n",
    "* $V_{top} = 338 V$\n",
    "* ${SWR} = 76$\n",
    "\n",
    "A comparable ideal transmission line model can be achieved with these parameters:\n",
    "\n",
    "* ```Td=0.164u Z0=29805```\n",
    "* $R_{top} = 2.25 M\\Omega$"
   ]
  },
  {
   "cell_type": "markdown",
   "metadata": {},
   "source": [
    "### Correction Factor\n",
    "\n",
    "Measured base resistance is lower than theoretical estimate."
   ]
  },
  {
   "cell_type": "code",
   "execution_count": 7,
   "metadata": {},
   "outputs": [
    {
     "data": {
      "text/plain": [
       "0.5542710916540233"
      ]
     },
     "execution_count": 7,
     "metadata": {},
     "output_type": "execute_result"
    }
   ],
   "source": [
    "C_f = 409/R_base\n",
    "C_f"
   ]
  },
  {
   "cell_type": "code",
   "execution_count": 8,
   "metadata": {},
   "outputs": [
    {
     "data": {
      "text/plain": [
       "'Base impedance: 597.2655600592714'"
      ]
     },
     "execution_count": 8,
     "metadata": {},
     "output_type": "execute_result"
    }
   ],
   "source": [
    "fo = 717e3\n",
    "D = 2.38 * inch\n",
    "s = (1/107.0) * inch\n",
    "lo = speed_of_light/fo\n",
    "H = (3.75 - (1/16))*inch\n",
    "\n",
    "V_f = 1/math.sqrt(1 + 20*((D/s)**2.5)*((D/lo)**0.5))\n",
    "\n",
    "Z_o = (60/V_f)*(math.log(4*H/D) - 1)\n",
    "\n",
    "d_w = s / inch\n",
    "a1 = 7.8125 * ((H/D)**0.2)\n",
    "a2 = d_w * Z_o * math.sqrt(fo/1e6)\n",
    "alpha_l = a1/a2\n",
    "\n",
    "R_base = C_f*alpha_l * Z_o\n",
    "f'Base impedance: {R_base}'"
   ]
  },
  {
   "cell_type": "markdown",
   "metadata": {},
   "source": [
    "## RF Helical Resonator\n",
    "\n",
    "[Wikipedia article](https://en.wikipedia.org/wiki/Helical_resonator), original [RF Cafe article](http://www.rfcafe.com/references/electrical/helical-resonator.htm)\n",
    "\n",
    "$Q=35.9\\cdot d\\cdot {\\sqrt  {f}}$\n",
    "\n",
    "$Z_{o}=\\frac{136190}{d\\cdot f}$\n",
    "\n",
    "$h=1.5\\cdot d$\n",
    "\n",
    "* $Q$ - quality factor (dimensionless)\n",
    "* $Z_{o}$ - resonator characteristic impedance (Ohms)\n",
    "* $d$ - mean helix diameter (cm)\n",
    "* $h$ - height of helix (cm)\n",
    "* $f$ - frequency (MHz)"
   ]
  },
  {
   "cell_type": "code",
   "execution_count": 13,
   "metadata": {},
   "outputs": [
    {
     "data": {
      "text/plain": [
       "(183.76580445189515, 31420.66631284676)"
      ]
     },
     "execution_count": 13,
     "metadata": {},
     "output_type": "execute_result"
    }
   ],
   "source": [
    "d = D/cm\n",
    "h = H/cm\n",
    "f = fo/MHz\n",
    "\n",
    "Q = 35.9 * d * math.sqrt(f)\n",
    "Zo = 136190/(d*f)\n",
    "Q, Zo"
   ]
  },
  {
   "cell_type": "markdown",
   "metadata": {},
   "source": [
    "## Power Estimate"
   ]
  },
  {
   "cell_type": "code",
   "execution_count": 16,
   "metadata": {},
   "outputs": [
    {
     "data": {
      "text/plain": [
       "8.333333333333334"
      ]
     },
     "execution_count": 16,
     "metadata": {},
     "output_type": "execute_result"
    }
   ],
   "source": [
    "R_top = 2.25e6\n",
    "V_top = 50e3\n",
    "P50 = (V_top**2)/R_top\n",
    "on_time = 25e-6\n",
    "cycle_time = 1/300\n",
    "P50*on_time/cycle_time"
   ]
  },
  {
   "cell_type": "code",
   "execution_count": 17,
   "metadata": {},
   "outputs": [
    {
     "data": {
      "text/plain": [
       "50.552158246960644"
      ]
     },
     "execution_count": 17,
     "metadata": {},
     "output_type": "execute_result"
    }
   ],
   "source": [
    "w_o = 2*math.pi*fo\n",
    "Q = R_top/(w_o*L_total)\n",
    "Q"
   ]
  },
  {
   "cell_type": "code",
   "execution_count": 18,
   "metadata": {},
   "outputs": [
    {
     "data": {
      "text/plain": [
       "1.0834909607019656e-07"
      ]
     },
     "execution_count": 18,
     "metadata": {},
     "output_type": "execute_result"
    }
   ],
   "source": [
    "1/(0.1e-6 * w_o**2)"
   ]
  },
  {
   "cell_type": "markdown",
   "metadata": {},
   "source": [
    "## Tesla Resonator"
   ]
  },
  {
   "cell_type": "code",
   "execution_count": 26,
   "metadata": {},
   "outputs": [
    {
     "data": {
      "text/plain": [
       "0.004273839070920192"
      ]
     },
     "execution_count": 26,
     "metadata": {},
     "output_type": "execute_result"
    }
   ],
   "source": [
    "\n",
    "fo = 94e3\n",
    "D = 8.25 * ft\n",
    "s = 1 * inch\n",
    "lo = speed_of_light/fo\n",
    "H = 106*inch\n",
    "\n",
    "V_f = 1/math.sqrt(1 + 20*((D/s)**2.5)*((D/lo)**0.5))\n",
    "V_f"
   ]
  },
  {
   "cell_type": "code",
   "execution_count": 27,
   "metadata": {},
   "outputs": [
    {
     "data": {
      "text/plain": [
       "6382.275011578561"
      ]
     },
     "execution_count": 27,
     "metadata": {},
     "output_type": "execute_result"
    }
   ],
   "source": [
    "Z_o = (60/V_f)*(math.log(4*H/D) - 1)\n",
    "Z_o"
   ]
  },
  {
   "cell_type": "code",
   "execution_count": 23,
   "metadata": {},
   "outputs": [
    {
     "data": {
      "text/plain": [
       "0.999896315728952"
      ]
     },
     "execution_count": 23,
     "metadata": {},
     "output_type": "execute_result"
    }
   ],
   "source": [
    "math.log(2.718)"
   ]
  },
  {
   "cell_type": "code",
   "execution_count": null,
   "metadata": {},
   "outputs": [],
   "source": []
  }
 ],
 "metadata": {
  "kernelspec": {
   "display_name": "Python 3",
   "language": "python",
   "name": "python3"
  },
  "language_info": {
   "codemirror_mode": {
    "name": "ipython",
    "version": 3
   },
   "file_extension": ".py",
   "mimetype": "text/x-python",
   "name": "python",
   "nbconvert_exporter": "python",
   "pygments_lexer": "ipython3",
   "version": "3.6.8"
  }
 },
 "nbformat": 4,
 "nbformat_minor": 2
}
